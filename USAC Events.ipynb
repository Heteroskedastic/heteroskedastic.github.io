{
 "cells": [
  {
   "cell_type": "markdown",
   "metadata": {},
   "source": [
    "# USAC Event data 2005 - 2015\n",
    "#### USA Cycling event data.\n",
    "\n",
    "I got started looking at USAC data becuase I was interested in the results of the 2015/16 USA Cyclocross nationals. Steve Tilfrd accused the officials of incoretly enforcing the 80% rule. see http://stevetilford.com/2016/01/07/the-good-bad-and-ugly-cyclocross-nationals/\n",
    "I got side track and started getting details on all events and thought I would look at this a bit first.\n",
    "\n",
    "As is always the case this data is not perfect, it may be incomplete and or incorrect.\n",
    "This data set includes all events, road, cross, mtb, track.... any competative event."
   ]
  },
  {
   "cell_type": "code",
   "execution_count": 4,
   "metadata": {
    "collapsed": true
   },
   "outputs": [],
   "source": [
    "## Top event Directors"
   ]
  },
  {
   "cell_type": "code",
   "execution_count": 2,
   "metadata": {
    "collapsed": false
   },
   "outputs": [
    {
     "data": {
      "text/plain": [
       "director\n",
       "David Berger                       254\n",
       "Robert Leibold                     209\n",
       "Tim Molyneaux                      123\n",
       "Don Edberg                         119\n",
       "Brian Holzhausen                    97\n",
       "William 'JR' Petsko                 84\n",
       "Neal Boyd                           75\n",
       "Laszlo Vajtay                       65\n",
       "Chip Berezny                        62\n",
       "Richard Ruoff                       61\n",
       "David Butterworth                   60\n",
       "Rebecca Travieso                    60\n",
       "James Lowe                          57\n",
       "Tom Spiegel                         56\n",
       "Ronald Lindley                      54\n",
       "Frederick Phillips                  49\n",
       "Hal Miller                          48\n",
       "Alan Atwood                         48\n",
       "Bruce Dunn                          48\n",
       "Mark Guthart                        47\n",
       "James Bernstein                     46\n",
       "Louis Panigutti                     46\n",
       "Dieter Drake                        45\n",
       "Kenneth Mills                       45\n",
       "Dwayne Letterman                    45\n",
       "Donald Melhado                      43\n",
       "Keri Burns                          40\n",
       "Nippy (Edward) Feldhake             38\n",
       "Akira Sato                          36\n",
       "Steve Rosefield                     36\n",
       "Andrew Hollinger                    35\n",
       "Michael Weiss                       35\n",
       "Robert Wissman                      35\n",
       "Rebecca Wissman                     35\n",
       "David Benjes                        34\n",
       "Breakaway Event Productions LLC     34\n",
       "Erik Anderson                       34\n",
       "Darren Lightfield                   34\n",
       "Roger Harrison                      34\n",
       "Dean Peterson                       34\n",
       "Gary Turnbull                       33\n",
       "Tobin Behling                       33\n",
       "Jason Bradley                       32\n",
       "Robert Linden                       32\n",
       "Jeffrey Unruh                       32\n",
       "John Lefler Jr                      32\n",
       "Lisa Nye-Salladin                   31\n",
       "Marty Nothstein                     31\n",
       "Christopher Lotts                   30\n",
       "David Riemenschneider               30\n",
       "Name: director, dtype: int64"
      ]
     },
     "execution_count": 2,
     "metadata": {},
     "output_type": "execute_result"
    }
   ],
   "source": [
    "import pandas as pd\n",
    "df = pd.read_csv(\"data/usac_event_2005_2015.csv\")"
   ]
  },
  {
   "cell_type": "code",
   "execution_count": null,
   "metadata": {
    "collapsed": true
   },
   "outputs": [],
   "source": [
    "dg = df.groupby('director')['director'].count()\n",
    "dg.sort_values(ascending=False).head(50)"
   ]
  },
  {
   "cell_type": "code",
   "execution_count": 3,
   "metadata": {
    "collapsed": false
   },
   "outputs": [
    {
     "data": {
      "text/plain": [
       "state\n",
       "CA      1347\n",
       "TX       819\n",
       "PA       813\n",
       "NY       800\n",
       "NJ       575\n",
       "FL       572\n",
       "CO       556\n",
       "NC       547\n",
       "AZ       498\n",
       "IL       463\n",
       "TN       451\n",
       "OH       431\n",
       "WI       429\n",
       "GA       427\n",
       "VA       415\n",
       "IN       404\n",
       "MO       378\n",
       "MI       361\n",
       "KS       349\n",
       "WA       338\n",
       "IA       330\n",
       "AR       320\n",
       "OK       313\n",
       "ID       304\n",
       "MD       292\n",
       "MA       272\n",
       "MT       270\n",
       "UT       266\n",
       "NM       253\n",
       "MN       247\n",
       "CT       245\n",
       "LA       224\n",
       "SC       213\n",
       "AL       176\n",
       "KY       165\n",
       "NH       148\n",
       "NE       143\n",
       "VT       138\n",
       "MS       119\n",
       "NV       107\n",
       "WV        90\n",
       "OR        86\n",
       "RI        78\n",
       "ME        55\n",
       "DE        43\n",
       "HI        32\n",
       "SD        30\n",
       "WY        27\n",
       "DC        17\n",
       "RT29       4\n",
       "Name: state, dtype: int64"
      ]
     },
     "execution_count": 3,
     "metadata": {},
     "output_type": "execute_result"
    }
   ],
   "source": [
    "ds = df.groupby('state')['state'].count()\n",
    "ds.sort_values(ascending=False).head(50)"
   ]
  },
  {
   "cell_type": "code",
   "execution_count": null,
   "metadata": {
    "collapsed": true
   },
   "outputs": [],
   "source": []
  },
  {
   "cell_type": "code",
   "execution_count": null,
   "metadata": {
    "collapsed": true
   },
   "outputs": [],
   "source": []
  }
 ],
 "metadata": {
  "kernelspec": {
   "display_name": "Python 3",
   "language": "python",
   "name": "python3"
  },
  "language_info": {
   "codemirror_mode": {
    "name": "ipython",
    "version": 3
   },
   "file_extension": ".py",
   "mimetype": "text/x-python",
   "name": "python",
   "nbconvert_exporter": "python",
   "pygments_lexer": "ipython3",
   "version": "3.5.1"
  }
 },
 "nbformat": 4,
 "nbformat_minor": 0
}
