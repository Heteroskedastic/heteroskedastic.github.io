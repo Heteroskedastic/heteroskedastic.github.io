{
 "cells": [
  {
   "cell_type": "markdown",
   "metadata": {},
   "source": [
    "# Heteroskedastic Consulting Group\n",
    "### Updateing the us-stats.js file to work wit your own data\n",
    "Based on Interactive Choropleth Map by http://leafletjs.com/examples/choropleth.html\n",
    "\n"
   ]
  },
  {
   "cell_type": "markdown",
   "metadata": {},
   "source": [
    "### Lets get a list of state names and the values as they are in the file."
   ]
  },
  {
   "cell_type": "code",
   "execution_count": null,
   "metadata": {
    "collapsed": false
   },
   "outputs": [],
   "source": [
    "import json\n",
    "states = dict()\n",
    "with open(\"data/us-states-org.js\") as jfile:\n",
    "    for l in jfile:\n",
    "                if \"FeatureCollection\" not in l and \"]};\" not in l:\n",
    "                    lj = l.rstrip(',\\n')\n",
    "                    #print(l[-1])\n",
    "                    #print(lj)\n",
    "                    try:\n",
    "                        jdata = json.loads(lj)\n",
    "                        states[jdata['properties']['name']] = jdata['properties']['density']\n",
    "                    except Exception as e:\n",
    "                        print(e)\n",
    "                        print(lj)\n",
    "                    \n",
    "                elif \"FeatureCollection\" in l and \"]};\" or \"]};\" in l:\n",
    "                    print('x')"
   ]
  },
  {
   "cell_type": "code",
   "execution_count": 11,
   "metadata": {
    "collapsed": false
   },
   "outputs": [],
   "source": [
    "states = {'Alabama': 94.65,\n",
    " 'Alaska': 1.264,\n",
    " 'Arizona': 57.05,\n",
    " 'Arkansas': 56.43,\n",
    " 'California': 241.7,\n",
    " 'Colorado': 49.33,\n",
    " 'Connecticut': 739.1,\n",
    " 'Delaware': 464.3,\n",
    " 'District of Columbia': 10065,\n",
    " 'Florida': 353.4,\n",
    " 'Georgia': 169.5,\n",
    " 'Hawaii': 214.1,\n",
    " 'Idaho': 19.15,\n",
    " 'Illinois': 231.5,\n",
    " 'Indiana': 181.7,\n",
    " 'Iowa': 54.81,\n",
    " 'Kansas': 35.09,\n",
    " 'Kentucky': 110,\n",
    " 'Louisiana': 105,\n",
    " 'Maine': 43.04,\n",
    " 'Maryland': 596.3,\n",
    " 'Massachusetts': 840.2,\n",
    " 'Michigan': 173.9,\n",
    " 'Minnesota': 67.14,\n",
    " 'Mississippi': 63.5,\n",
    " 'Missouri': 87.26,\n",
    " 'Montana': 6.858,\n",
    " 'Nebraska': 23.97,\n",
    " 'Nevada': 24.8,\n",
    " 'New Hampshire': 147,\n",
    " 'New Jersey': 1189,\n",
    " 'New Mexico': 17.16,\n",
    " 'New York': 412.3,\n",
    " 'North Carolina': 198.2,\n",
    " 'North Dakota': 9.916,\n",
    " 'Ohio': 281.9,\n",
    " 'Oklahoma': 55.22,\n",
    " 'Oregon': 40.33,\n",
    " 'Pennsylvania': 284.3,\n",
    " 'Rhode Island': 1006,\n",
    " 'South Carolina': 155.4,\n",
    " 'South Dakota': 98.07,\n",
    " 'Tennessee': 88.08,\n",
    " 'Texas': 98.07,\n",
    " 'Utah': 34.3,\n",
    " 'Vermont': 67.73,\n",
    " 'Virginia': 204.5,\n",
    " 'Washington': 102.6,\n",
    " 'West Virginia': 77.06,\n",
    " 'Wisconsin': 105.2,\n",
    " 'Wyoming': 5.851}"
   ]
  },
  {
   "cell_type": "markdown",
   "metadata": {},
   "source": [
    "### The json file uses onlu full state names, lets add the ability to use state addreviations\n",
    "\n",
    "This adds abbr key for state abbreviations to the Json"
   ]
  },
  {
   "cell_type": "code",
   "execution_count": 9,
   "metadata": {
    "collapsed": false
   },
   "outputs": [],
   "source": [
    "import json\n",
    "from data_tools import states_name_abbr\n",
    "with open('data/us-states-org.js') as jfile:\n",
    "    with open('data/us-states.js', 'w') as jout:\n",
    "        for l in jfile:\n",
    "            if \"FeatureCollection\" not in l and \"]};\" not in l:\n",
    "                jdata = json.loads(l.rstrip(',\\n'))\n",
    "                jdata['properties']['abbr'] = states_name_abbr[jdata['properties']['name']]\n",
    "                jout.write(json.dumps(jdata, sort_keys = True)+\",\\n\")\n",
    "            elif \"FeatureCollection\" in l or \"]};\" in l:\n",
    "                jout.write(l)"
   ]
  },
  {
   "cell_type": "markdown",
   "metadata": {},
   "source": [
    "## Now we can update our json values with this.\n",
    "In this example I just write the same data back to a new file.\n",
    "\n",
    "This function is now in data_tools.py"
   ]
  },
  {
   "cell_type": "code",
   "execution_count": 12,
   "metadata": {
    "collapsed": false
   },
   "outputs": [],
   "source": [
    "import json\n",
    "def state_values(svalue, us_states, outfile):\n",
    "    \"\"\"\n",
    "    svalues: a dict  {State:value}\n",
    "    template: template us-states json file.\n",
    "    \"\"\"\n",
    "    with open(us_states) as jfile:\n",
    "        with open(outfile, 'w') as jout:\n",
    "            for l in jfile:\n",
    "                if \"FeatureCollection\" not in l and \"]};\" not in l:\n",
    "                    jdata = json.loads(l.rstrip(',\\n'))\n",
    "                    jdata['properties']['density'] = svalue[jdata['properties']['name']]\n",
    "                    jout.write(json.dumps(jdata)+\",\\n\")\n",
    "                elif \"FeatureCollection\" in l or \"]};\" in l:\n",
    "                    jout.write(l)\n",
    "            \n",
    "state_values(states, \"data/us-states.js\", 'data/example_state_events.js')"
   ]
  },
  {
   "cell_type": "code",
   "execution_count": null,
   "metadata": {
    "collapsed": true
   },
   "outputs": [],
   "source": []
  }
 ],
 "metadata": {
  "kernelspec": {
   "display_name": "Python 3",
   "language": "python",
   "name": "python3"
  },
  "language_info": {
   "codemirror_mode": {
    "name": "ipython",
    "version": 3
   },
   "file_extension": ".py",
   "mimetype": "text/x-python",
   "name": "python",
   "nbconvert_exporter": "python",
   "pygments_lexer": "ipython3",
   "version": "3.5.1"
  }
 },
 "nbformat": 4,
 "nbformat_minor": 0
}
